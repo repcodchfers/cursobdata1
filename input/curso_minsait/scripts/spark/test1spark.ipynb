{
 "cells": [
  {
   "cell_type": "code",
   "execution_count": 3,
   "metadata": {},
   "outputs": [],
   "source": [
    "import argparse\n",
    "from typing import Dict, Tuple, Any\n",
    "import json\n",
    "from pyspark.sql import SparkSession, DataFrame\n",
    "from pyspark.sql import HiveContext\n",
    "from pyspark.sql.functions import *\n",
    "import importlib"
   ]
  },
  {
   "cell_type": "code",
   "execution_count": 2,
   "metadata": {},
   "outputs": [],
   "source": [
    "df_cidade= spark.sql(\"select *from aula_hive.tbl_cidade\")"
   ]
  },
  {
   "cell_type": "code",
   "execution_count": 4,
   "metadata": {},
   "outputs": [
    {
     "name": "stdout",
     "output_type": "stream",
     "text": [
      "+---------+----------------+---------+--------+\n",
      "|id_cidade|       ds_cidade|id_estado| dt_foto|\n",
      "+---------+----------------+---------+--------+\n",
      "|     1058|           Betim|        1|27052023|\n",
      "|       33|      ACRELANDIA|        2|27052023|\n",
      "|      485|    ASSIS BRASIL|        2|27052023|\n",
      "|      958|       BRASILEIA|        2|27052023|\n",
      "|     1388|        CAPIXABA|        2|27052023|\n",
      "|     1851| CRUZEIRO DO SUL|        2|27052023|\n",
      "|     2022|       Cravinhos|        2|27052023|\n",
      "|     2232|  EPITACIOLANDIA|        2|27052023|\n",
      "|     2347|           FEIJO|        2|27052023|\n",
      "|     3879|     MANCIO LIMA|        2|27052023|\n",
      "|     3895|   MANOEL URBANO|        2|27052023|\n",
      "|     5628|      RIO BRANCO|        2|27052023|\n",
      "|     5767|      Rio Branco|        2|27052023|\n",
      "|     6585|  SENA MADUREIRA|        2|27052023|\n",
      "|     6593|SENADOR GUIOMARD|        2|27052023|\n",
      "|     6845|       SÃO PAULO|        2|27052023|\n",
      "|     6987|        TARAUACA|        2|27052023|\n",
      "|     7241|      UBERLANDIA|        2|27052023|\n",
      "|     7535|          XAPURI|        2|27052023|\n",
      "|       59|     AGUA BRANCA|        3|27052023|\n",
      "+---------+----------------+---------+--------+\n",
      "only showing top 20 rows\n",
      "\n"
     ]
    }
   ],
   "source": [
    "df_cidade.show()\n"
   ]
  },
  {
   "cell_type": "code",
   "execution_count": 4,
   "metadata": {},
   "outputs": [],
   "source": [
    "df_item_pedido = spark.sql(\"select * from aula_hive.tbl_item_pedido\")"
   ]
  },
  {
   "cell_type": "code",
   "execution_count": 3,
   "metadata": {},
   "outputs": [
    {
     "name": "stdout",
     "output_type": "stream",
     "text": [
      "root\n",
      " |-- id_pedido: string (nullable = true)\n",
      " |-- id_produto: string (nullable = true)\n",
      " |-- quantidade: string (nullable = true)\n",
      " |-- vr_unitario: string (nullable = true)\n",
      " |-- dt_foto: string (nullable = true)\n",
      "\n"
     ]
    }
   ],
   "source": [
    "df_item_pedido.printSchema()"
   ]
  },
  {
   "cell_type": "code",
   "execution_count": 1,
   "metadata": {},
   "outputs": [],
   "source": [
    "df_pedido = spark.sql(\"select * from aula_hive.tbl_pedido\")"
   ]
  },
  {
   "cell_type": "code",
   "execution_count": 5,
   "metadata": {},
   "outputs": [],
   "source": [
    "df_pedido.createOrReplaceTempView('pedido')\n",
    "df_item_pedido.createOrReplaceTempView('item_pedido')"
   ]
  },
  {
   "cell_type": "code",
   "execution_count": 6,
   "metadata": {},
   "outputs": [],
   "source": [
    "sql = '''\n",
    "    select \n",
    "        *\n",
    "    from \n",
    "        pedido as p \n",
    "    join\n",
    "        item_pedido as ip on p.id_pedido == ip.id_pedido\n",
    "        '''"
   ]
  },
  {
   "cell_type": "code",
   "execution_count": 7,
   "metadata": {},
   "outputs": [],
   "source": [
    "df_stage1 = spark.sql(sql)"
   ]
  },
  {
   "cell_type": "code",
   "execution_count": 8,
   "metadata": {},
   "outputs": [
    {
     "name": "stdout",
     "output_type": "stream",
     "text": [
      "+-----------+--------------------+-----------+----------+---------+-------------+--------+-----------+----------+----------+-----------+--------+\n",
      "|  id_pedido|           dt_pedido|id_parceiro|id_cliente|id_filial|vr_total_pago| dt_foto|  id_pedido|id_produto|quantidade|vr_unitario| dt_foto|\n",
      "+-----------+--------------------+-----------+----------+---------+-------------+--------+-----------+----------+----------+-----------+--------+\n",
      "|46626099016|2021-06-02T00:00:...|         16| 138633690|      547|       194.99|20230606|46626099016|   5077094|         1|     194.99|06062023|\n",
      "|46630423213|2021-06-02T00:00:...|         13| 106568537|      875|        51.99|20230606|46630423213|   3335368|         1|      51.99|06062023|\n",
      "|46630859716|2021-06-02T00:00:...|         16| 138757662|      884|        90.99|20230606|46630859716|   5053698|         1|      90.99|06062023|\n",
      "|46631152013|2021-06-02T00:00:...|         13| 138459547|      494|       129.99|20230606|46631152013|   3488193|         1|     129.99|06062023|\n",
      "|46635194213|2021-06-02T00:00:...|         13|   5534295|      194|        90.99|20230606|46635194213|   4149634|         1|      90.99|06062023|\n",
      "|46635829216|2021-06-02T00:00:...|         16| 138680502|        3|        90.99|20230606|46635829216|   3174943|         1|      90.99|06062023|\n",
      "|46636323516|2021-06-02T00:00:...|         16|  54441355|      597|        64.99|20230606|46636323516|   2398616|         1|      64.99|06062023|\n",
      "|46636461213|2021-06-02T00:00:...|         13| 123812442|      141|       246.99|20230606|46636461213|   3527649|         1|     246.99|06062023|\n",
      "|46638109716|2021-06-02T00:00:...|         16| 128992980|     1680|       324.99|20230606|46638109716|   4849669|         1|     324.99|06062023|\n",
      "|46641219513|2021-06-02T00:00:...|         13|  92878260|        3|        90.99|20230606|46641219513|    897394|         1|      90.99|06062023|\n",
      "|46644071016|2021-06-02T00:00:...|         16| 131867810|      231|        71.49|20230606|46644071016|    872394|         1|      71.49|06062023|\n",
      "|46646868713|2021-06-02T00:00:...|         13|  33538792|      276|       142.99|20230606|46646868713|   4781857|         1|     142.99|06062023|\n",
      "|46647494016|2021-06-02T00:00:...|         16|   1570482|      276|       246.99|20230606|46647494016|   2768153|         1|     246.99|06062023|\n",
      "|46648068513|2021-06-02T00:00:...|         13|  36811340|     1730|       259.99|20230606|46648068513|   3172143|         1|     259.99|06062023|\n",
      "|46651158213|2021-06-02T00:00:...|         13|  86697230|     1731|        77.99|20230606|46651158213|   4645822|         1|      77.99|06062023|\n",
      "|46651205016|2021-06-02T00:00:...|         16|  59083097|      231|        97.49|20230606|46651205016|   4255825|         1|      97.49|06062023|\n",
      "| 4665819955|2021-06-02T00:00:...|          5|  55088745|      276|       214.37|20230606| 4665819955|   4810314|         1|     214.37|06062023|\n",
      "| 4665845403|2021-06-02T00:00:...|          3|   6698845|      416|        77.87|20230606| 4665845403|   2292768|         1|      77.87|06062023|\n",
      "|46663798513|2021-06-02T00:00:...|         13|  16370715|      494|       298.99|20230606|46663798513|   2835810|         1|     298.99|06062023|\n",
      "|46664415513|2021-06-02T00:00:...|         13|   9603632|      231|        90.98|20230606|46664415513|   2291386|         1|      45.49|06062023|\n",
      "+-----------+--------------------+-----------+----------+---------+-------------+--------+-----------+----------+----------+-----------+--------+\n",
      "only showing top 20 rows\n",
      "\n"
     ]
    }
   ],
   "source": [
    "df_stage1.show()"
   ]
  },
  {
   "cell_type": "code",
   "execution_count": null,
   "metadata": {},
   "outputs": [],
   "source": []
  }
 ],
 "metadata": {
  "kernelspec": {
   "display_name": "PySpark",
   "language": "python",
   "name": "pyspark"
  },
  "language_info": {
   "codemirror_mode": {
    "name": "ipython",
    "version": 3
   },
   "file_extension": ".py",
   "mimetype": "text/x-python",
   "name": "python",
   "nbconvert_exporter": "python",
   "pygments_lexer": "ipython3",
   "version": "3.6.10"
  }
 },
 "nbformat": 4,
 "nbformat_minor": 2
}
